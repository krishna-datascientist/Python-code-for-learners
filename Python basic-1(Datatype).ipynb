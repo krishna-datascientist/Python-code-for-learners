{
 "cells": [
  {
   "cell_type": "markdown",
   "metadata": {},
   "source": [
    "# Fudmental data type\n"
   ]
  },
  {
   "cell_type": "raw",
   "metadata": {},
   "source": [
    "@Integer\n",
    "@Float\n",
    "@Bool\n",
    "@String\n",
    "@List \n",
    "@Tuple\n",
    "@Set\n",
    "@Dictionary\n",
    "##Custom data type like \n",
    "@Classes\n",
    "##Special data type\n",
    "@Modules(@Packages)"
   ]
  },
  {
   "cell_type": "code",
   "execution_count": null,
   "metadata": {},
   "outputs": [],
   "source": [
    "#Printing  Hello word with print function ,always to print someting we should use print.\n",
    "print(\"Hello word\")\n"
   ]
  },
  {
   "cell_type": "code",
   "execution_count": null,
   "metadata": {},
   "outputs": [],
   "source": [
    "#If we want to give input python ,we use function called input\n",
    "Name=input(\"What is your name :\")"
   ]
  },
  {
   "cell_type": "code",
   "execution_count": null,
   "metadata": {},
   "outputs": [],
   "source": [
    "print(\"Hellooooooo  \" +Name)"
   ]
  },
  {
   "cell_type": "markdown",
   "metadata": {},
   "source": [
    "# Integer and Float data type\n"
   ]
  },
  {
   "cell_type": "code",
   "execution_count": null,
   "metadata": {},
   "outputs": [],
   "source": [
    "#Arithmetic operators\n",
    "#type funtion is used to find data type.\n",
    "print(type(6))\n",
    "print(2+1)   \n",
    "print(2-1)\n",
    "print(2*1)\n",
    "print(2/1)\n",
    "#FOR POWER\n",
    "print(2**2)\n",
    "#To get integer value \n",
    "print(2//1)\n",
    "#To get remider \n",
    "print(2 % 1)"
   ]
  },
  {
   "cell_type": "code",
   "execution_count": null,
   "metadata": {},
   "outputs": [],
   "source": [
    "# Math Functions\n",
    "#Rounding number \n",
    "print(round(2/3,2))\n"
   ]
  },
  {
   "cell_type": "code",
   "execution_count": null,
   "metadata": {},
   "outputs": [],
   "source": [
    "#Operator precedence\n",
    "#THE ORDER OF OPERATION (),**,*,/,+,-\n",
    "print((2+2)/2)"
   ]
  },
  {
   "cell_type": "code",
   "execution_count": null,
   "metadata": {},
   "outputs": [],
   "source": [
    "#complex data type \n",
    "#To find binary number there function called bin\n",
    "print(bin(1))\n",
    "#if try to covert binary to int\n",
    "print(int(0b1))"
   ]
  },
  {
   "cell_type": "markdown",
   "metadata": {},
   "source": [
    "# Important concept of any programming language is variables.\n",
    "#The variable store information from user.Variables are easy to access information and we can access varaible anytime in programe\n",
    "#Variable name should be in left hand side and assigned with equal symbol '='.\n",
    "#There are some rules for variable like 1)They should have lower case 2)The variable name should not be any function or keyword example like print. 3) They should start with lower case 4)Variables are case sentive example variable name cAr is different from caR.\n",
    "4)Varibles can have numbers ,characters and special characters. "
   ]
  },
  {
   "cell_type": "code",
   "execution_count": null,
   "metadata": {},
   "outputs": [],
   "source": [
    "#Creating variable\n",
    "caR_Rating=4\n",
    "print(caR_Rating)"
   ]
  },
  {
   "cell_type": "code",
   "execution_count": null,
   "metadata": {},
   "outputs": [],
   "source": [
    "#Expression vs Statements \n",
    "iq=100\n",
    "u=iq/3 #iq/3 is expression ,u=iq/3 statement."
   ]
  },
  {
   "cell_type": "code",
   "execution_count": null,
   "metadata": {},
   "outputs": [],
   "source": [
    "#Argument assignment operator\n",
    "iq=12\n",
    "iq+=3\n",
    "print(iq)"
   ]
  },
  {
   "cell_type": "markdown",
   "metadata": {},
   "source": [
    "# Data type string \n",
    "#It is set characters ,or combination character and number which are not aggregated and denoted ' ' or\" \" and ''' ''' for long strings"
   ]
  },
  {
   "cell_type": "code",
   "execution_count": null,
   "metadata": {},
   "outputs": [],
   "source": [
    "new='Road'\n",
    "new1=\"Road\"\n",
    "new2='''Hello\n",
    "old\n",
    "new'''\n",
    "print(new)\n",
    "print(new1)\n",
    "print(new2)"
   ]
  },
  {
   "cell_type": "code",
   "execution_count": null,
   "metadata": {},
   "outputs": [],
   "source": [
    "#String concatation is adding strings together\n",
    "fristname='Krishna'\n",
    "lastname='v'\n",
    "fullname=fristname+lastname\n",
    "print(fullname)\n",
    "#To get space between fristname and last name \n",
    "fullname=fristname+\" \"+lastname\n",
    "print(fullname)\n",
    "#There is a type error will concatinating string with intergers becuase strings can not concatinate with other datatypes \n",
    "print(fullname+5)"
   ]
  },
  {
   "cell_type": "code",
   "execution_count": null,
   "metadata": {},
   "outputs": [],
   "source": [
    "#Type conversion\n",
    "print(type(str(100)))\n",
    "print(fullname+str(5))"
   ]
  },
  {
   "cell_type": "code",
   "execution_count": null,
   "metadata": {},
   "outputs": [],
   "source": [
    "#Escape Sequence\n",
    "carmodel=\"I love model\"\\\"F2\"\n",
    "print(carmodel)"
   ]
  },
  {
   "cell_type": "code",
   "execution_count": null,
   "metadata": {},
   "outputs": [],
   "source": [
    "#Formatted strings\n",
    "name='Krishna'\n",
    "age=23\n",
    "print('Hello '+name +'.you are '+str(age)+' years old')\n",
    "print(f'Hello {name}.you are {age} years old')\n",
    "print('Hello {}.you are {} years old'.format(name,age))\n",
    "#To change position of variables\n",
    "print('Hello {1}.you are {0} years old'.format(name,age))"
   ]
  },
  {
   "cell_type": "code",
   "execution_count": null,
   "metadata": {},
   "outputs": [],
   "source": [
    "#Builtin function\n",
    "#here len is used to find lenght \n",
    "print(len('Hello'))"
   ]
  },
  {
   "cell_type": "code",
   "execution_count": null,
   "metadata": {},
   "outputs": [],
   "source": [
    "#Methods\n",
    "qu='HELLO WORLD'\n",
    "print(qu.lower())\n",
    "print(qu.find('HE'))"
   ]
  },
  {
   "cell_type": "code",
   "execution_count": null,
   "metadata": {},
   "outputs": [],
   "source": [
    "#Boolen\n",
    "#they are true or false ,1 or 0.\n",
    "print(bool(1))\n",
    "print(bool(0))"
   ]
  },
  {
   "cell_type": "code",
   "execution_count": null,
   "metadata": {},
   "outputs": [],
   "source": [
    "year=int(input(\"Enter year of birth\"))"
   ]
  },
  {
   "cell_type": "code",
   "execution_count": null,
   "metadata": {},
   "outputs": [],
   "source": [
    "age=2021-year\n",
    "print(age)"
   ]
  },
  {
   "cell_type": "code",
   "execution_count": null,
   "metadata": {},
   "outputs": [],
   "source": [
    "username=input('username')\n",
    "password=input('password')"
   ]
  },
  {
   "cell_type": "code",
   "execution_count": null,
   "metadata": {},
   "outputs": [],
   "source": [
    "password_leg=len(password)\n",
    "hid_pass='*'*password_leg\n"
   ]
  },
  {
   "cell_type": "code",
   "execution_count": null,
   "metadata": {},
   "outputs": [],
   "source": [
    "print(f'your user name is {username},password is {hid_pass} with leght of letters {password_leg}.')"
   ]
  },
  {
   "cell_type": "code",
   "execution_count": null,
   "metadata": {},
   "outputs": [],
   "source": [
    "#List are one type data type with data structure ,where we can store information. The list can be created by '[]'.\n",
    "lecart=['Little','Big','Large']\n",
    "newcart=lecart[:]\n",
    "newcart[0]='small'\n",
    "print(newcart)\n",
    "print(lecart)"
   ]
  },
  {
   "cell_type": "code",
   "execution_count": null,
   "metadata": {},
   "outputs": [],
   "source": [
    "#Some methods in list\n",
    "n=[1,2,3,4,5]\n",
    "n.append(45)\n",
    "print(n)"
   ]
  },
  {
   "cell_type": "code",
   "execution_count": null,
   "metadata": {},
   "outputs": [],
   "source": [
    "#Inside one list ,we can have multiple list\n",
    "m=[[2,3,4],[4,6,7],[58,5,44]]\n",
    "print(m[2][0])"
   ]
  },
  {
   "cell_type": "code",
   "execution_count": null,
   "metadata": {},
   "outputs": [],
   "source": [
    "# using this list: \n",
    "basket = [\"Banana\", [\"Apples\", [\"Oranges\"], \"Blueberries\"]];\n",
    "# access \"Oranges\" and print it:\n",
    "print(basket[1][1][0])"
   ]
  },
  {
   "cell_type": "code",
   "execution_count": null,
   "metadata": {},
   "outputs": [],
   "source": [
    "#insert method is used for add new value at preffered index\n",
    "n.insert(0,34)\n",
    "print(n)"
   ]
  },
  {
   "cell_type": "code",
   "execution_count": null,
   "metadata": {},
   "outputs": [],
   "source": [
    "#To remove last item from list\n",
    "n.pop()\n",
    "print(n)"
   ]
  },
  {
   "cell_type": "code",
   "execution_count": null,
   "metadata": {},
   "outputs": [],
   "source": [
    "#To remove particular value\n",
    "n.remove(34)\n",
    "print(n)"
   ]
  },
  {
   "cell_type": "code",
   "execution_count": null,
   "metadata": {},
   "outputs": [],
   "source": [
    "#We can retrive desirable index value with help of index \n",
    "f=['a','b','c','d','e']\n",
    "print(f.index('c'))"
   ]
  },
  {
   "cell_type": "code",
   "execution_count": null,
   "metadata": {},
   "outputs": [],
   "source": [
    "#In keyword is used to see whether an item exists are not.\n",
    "print('d' in f)"
   ]
  },
  {
   "cell_type": "code",
   "execution_count": null,
   "metadata": {},
   "outputs": [],
   "source": [
    "# using this list, \n",
    "basket = [\"Banana\", \"Apples\", \"Oranges\", \"Blueberries\"];\n",
    "\n",
    "# 1. Remove the Banana from the list\n",
    "basket.remove(\"Banana\")\n",
    "# 2. Remove \"Blueberries\" from the list.\n",
    "basket.pop()\n",
    "# 3. Put \"Kiwi\" at the end of the list.\n",
    "basket.append(\"Kiwi\")\n",
    "# 4. Add \"Apples\" at the beginning of the list\n",
    "basket.insert(0,\"Apples\")\n",
    "# 5. Count how many apples in the basket\n",
    "print(basket.count('Apples'))\n",
    "# 6. empty the basket\n",
    "basket.clear()\n",
    "print(basket)"
   ]
  },
  {
   "cell_type": "code",
   "execution_count": null,
   "metadata": {},
   "outputs": [],
   "source": [
    "#Some of method\n",
    "f=['a','g','e','w']\n",
    "f.sort()\n",
    "print(f)\n",
    "f.reverse()\n",
    "print(f)\n"
   ]
  },
  {
   "cell_type": "code",
   "execution_count": null,
   "metadata": {},
   "outputs": [],
   "source": [
    "#To resverse \n",
    "print(f[::-1])"
   ]
  },
  {
   "cell_type": "code",
   "execution_count": null,
   "metadata": {},
   "outputs": [],
   "source": [
    "#For range\n",
    "print(list(range(1,101)))"
   ]
  },
  {
   "cell_type": "code",
   "execution_count": null,
   "metadata": {},
   "outputs": [],
   "source": [
    "#Join function is used to join strings.\n",
    "sentence=' '\n",
    "new_sentence=sentence.join(['krishna','how','are','you'])\n",
    "print(new_sentence)"
   ]
  },
  {
   "cell_type": "code",
   "execution_count": null,
   "metadata": {},
   "outputs": [],
   "source": [
    "#List unpacking\n",
    "basket=[1,2,3]\n",
    "a,b,c=[1,2,3]\n",
    "print(a)\n",
    "print(b)\n",
    "print(c)"
   ]
  },
  {
   "cell_type": "code",
   "execution_count": null,
   "metadata": {},
   "outputs": [],
   "source": [
    "a,b,c,*other,d,e=[1,2,3,5,6,7,8,9,10]\n",
    "print(a)\n",
    "print(b)\n",
    "print(c)\n",
    "print(other)\n",
    "print(d)\n",
    "print(e)"
   ]
  },
  {
   "cell_type": "code",
   "execution_count": null,
   "metadata": {},
   "outputs": [],
   "source": [
    "# Dictionary is un-order key value and denoted by'{}'.\n",
    "#Dictionary value  cant change and unqiue key.\n",
    "dictionary={'a':3,'b':4,'r':6}\n",
    "print(dictionary['a'])\n",
    "new=[{'a':3,'b':4,'r':6},{'1':10900,'2':109090,'3':1909}]\n",
    "print(new[0]['a'])"
   ]
  },
  {
   "cell_type": "code",
   "execution_count": null,
   "metadata": {},
   "outputs": [],
   "source": [
    "dic={'a':3,'b':4,'r':6}\n",
    "print(dic.get('y'))\n",
    "#Here 8 is default value if key y not exist.\n",
    "print(dic.get('y',8))"
   ]
  },
  {
   "cell_type": "code",
   "execution_count": null,
   "metadata": {},
   "outputs": [],
   "source": [
    "#The other way to create dictionary using built in function.\n",
    "ds=dict(ca=7822)\n",
    "print(ds)"
   ]
  },
  {
   "cell_type": "code",
   "execution_count": null,
   "metadata": {},
   "outputs": [],
   "source": [
    "print('a' in dic)\n",
    "print('a' in dic.items())\n",
    "print('a' in dic.values())\n",
    "ne=dic.copy()\n",
    "print(dic)\n",
    "print(ne)\n",
    "print(dic.update({'g':1920}))"
   ]
  },
  {
   "cell_type": "code",
   "execution_count": null,
   "metadata": {},
   "outputs": [],
   "source": [
    "\n",
    "#1 Create a user profile for your new game. This user profile will be stored in a dictionary with keys: 'age', 'username', 'weapons', 'is_active' and 'clan'\n",
    "game={'age':23,'username':'kri','weapons':None,'is_active':True,'clam':4}\n",
    "#2 iterate and print all the keys in the above user.\n",
    "print(game.values())\n",
    "\n",
    "#3 Add a new weapon to your user\n",
    "game['weapons'].append('shield')\n",
    "print(game)\n",
    "\n",
    "#4 Add a new key to include 'is_banned'. Set it to false\n",
    "game.update({'is_banned': False}) \n",
    "print(game)\n",
    "\n",
    "#5 Ban the user by setting the previous key to True\n",
    "game['is_banned'] = True\n",
    "print(game)\n",
    "\n",
    "#6 create a new user2 my copying the previous user and update the age value and username value. \n",
    "user2 = game.copy()\n",
    "user2.update({'age': 100, 'username': 'Timbo'})\n",
    "print(user2)\n"
   ]
  },
  {
   "cell_type": "code",
   "execution_count": 4,
   "metadata": {},
   "outputs": [
    {
     "name": "stdout",
     "output_type": "stream",
     "text": [
      "<class 'tuple'>\n"
     ]
    }
   ],
   "source": [
    "#Tuples are like list but there immuntables.\n",
    "d=(1,2,3,4,5)\n",
    "print(type(d))\n"
   ]
  },
  {
   "cell_type": "code",
   "execution_count": 22,
   "metadata": {},
   "outputs": [
    {
     "name": "stdout",
     "output_type": "stream",
     "text": [
      "{1, 2, 3}\n",
      "None\n",
      "{1, 2, 3, 4}\n",
      "None\n",
      "{1, 2, 3}\n",
      "set()\n",
      "{1, 2, 3}\n",
      "True\n",
      "{1, 2, 3, 4, 5, 6, 7, 8, 9, 10}\n",
      "{1, 2, 3, 4, 5, 6, 7, 8, 9, 10}\n",
      "False\n",
      "False\n"
     ]
    }
   ],
   "source": [
    "#The set are denoted by '{}'.The difference here no key value as dictionary \n",
    "my_set={1,2,3,4,5}\n",
    "your_set={4,5,6,7,8,9,10}\n",
    "print(my_set.difference(your_set))\n",
    "print(my_set.discard(5))\n",
    "print(my_set)\n",
    "print(my_set.difference_update(your_set))\n",
    "print(my_set)\n",
    "print(my_set.intersection(your_set))\n",
    "print(my_set)\n",
    "print(my_set.isdisjoint(your_set))\n",
    "print(my_set.union(your_set))\n",
    "#Shift + \\\n",
    "print(my_set |your_set )\n",
    "print(my_set.issubset(your_set))\n",
    "print(my_set.issuperset(your_set))\n"
   ]
  },
  {
   "cell_type": "code",
   "execution_count": null,
   "metadata": {},
   "outputs": [],
   "source": []
  },
  {
   "cell_type": "code",
   "execution_count": null,
   "metadata": {},
   "outputs": [],
   "source": []
  }
 ],
 "metadata": {
  "kernelspec": {
   "display_name": "Python 3",
   "language": "python",
   "name": "python3"
  },
  "language_info": {
   "codemirror_mode": {
    "name": "ipython",
    "version": 3
   },
   "file_extension": ".py",
   "mimetype": "text/x-python",
   "name": "python",
   "nbconvert_exporter": "python",
   "pygments_lexer": "ipython3",
   "version": "3.8.5"
  }
 },
 "nbformat": 4,
 "nbformat_minor": 4
}
